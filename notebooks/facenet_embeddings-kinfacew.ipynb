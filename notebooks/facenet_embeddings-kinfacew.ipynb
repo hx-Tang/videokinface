{
 "cells": [
  {
   "cell_type": "code",
   "execution_count": 1,
   "id": "693c5320",
   "metadata": {
    "scrolled": false
   },
   "outputs": [
    {
     "name": "stdout",
     "output_type": "stream",
     "text": [
      "C:\\Users\\13661\\PycharmProjects\\KinshipVerification\n",
      "C:\\Users\\13661\\PycharmProjects\\KinshipVerification\n"
     ]
    }
   ],
   "source": [
    "%cd .."
   ]
  },
  {
   "cell_type": "code",
   "execution_count": 2,
   "id": "e74a8847",
   "metadata": {},
   "outputs": [],
   "source": [
    "import numpy as np\n",
    "import torch\n",
    "import torchvision\n",
    "from torch.utils.data.dataloader import DataLoader\n",
    "\n",
    "device = torch.device('cuda')"
   ]
  },
  {
   "cell_type": "code",
   "execution_count": 3,
   "id": "f80a1dae",
   "metadata": {},
   "outputs": [],
   "source": [
    "from dataset import kinfaceW"
   ]
  },
  {
   "cell_type": "code",
   "execution_count": 4,
   "id": "3423ec8f",
   "metadata": {},
   "outputs": [],
   "source": [
    "train_split = np.load('kfw_train_pair.npy')\n",
    "dataset = kinfaceW(train_split)\n",
    "loader = DataLoader(\n",
    "        dataset, batch_size=1, shuffle=False, num_workers=1)"
   ]
  },
  {
   "cell_type": "code",
   "execution_count": 5,
   "id": "fd8c5172",
   "metadata": {},
   "outputs": [],
   "source": [
    "from facenet_pytorch import InceptionResnetV1\n",
    "resnet = InceptionResnetV1(pretrained='vggface2').eval().to(device)"
   ]
  },
  {
   "cell_type": "code",
   "execution_count": 6,
   "id": "c139acd1",
   "metadata": {
    "scrolled": true
   },
   "outputs": [
    {
     "name": "stderr",
     "output_type": "stream",
     "text": [
      "100%|███████████████████████████████████████████████████████████████████████████| 2000/2000 [05:18<00:00,  6.27batch/s]\n",
      "\n"
     ]
    }
   ],
   "source": [
    "from tqdm import tqdm\n",
    "import torch.nn.functional as F\n",
    "\n",
    "outs = []\n",
    "with torch.no_grad():\n",
    "    with tqdm(loader, unit=\"batch\") as data_loader:\n",
    "        for batch in data_loader:\n",
    "            label = int(batch[2][0])\n",
    "            batch = [v.permute(0,3,1,2).to(device) for v in batch[:2]]\n",
    "\n",
    "            p = resnet(batch[0]).squeeze().detach().cpu()\n",
    "            c = resnet(batch[1]).squeeze().detach().cpu()\n",
    "            \n",
    "            outs.append([F.normalize(torch.abs(p - c), dim=0).numpy(), label])"
   ]
  },
  {
   "cell_type": "code",
   "execution_count": 7,
   "id": "1763b760",
   "metadata": {},
   "outputs": [],
   "source": [
    "import random\n",
    "random.shuffle(outs)\n",
    "\n",
    "X = [a[0] for a in outs]\n",
    "Y = [a[1] for a in outs]"
   ]
  },
  {
   "cell_type": "code",
   "execution_count": 8,
   "id": "56689083",
   "metadata": {},
   "outputs": [
    {
     "name": "stdout",
     "output_type": "stream",
     "text": [
      "2000\n",
      "2000\n"
     ]
    }
   ],
   "source": [
    "print(len(X))"
   ]
  },
  {
   "cell_type": "code",
   "execution_count": 11,
   "id": "29507374",
   "metadata": {},
   "outputs": [
    {
     "data": {
      "text/plain": [
       "0.8895"
      ]
     },
     "execution_count": 11,
     "metadata": {},
     "output_type": "execute_result"
    },
    {
     "data": {
      "text/plain": [
       "0.8895"
      ]
     },
     "execution_count": 11,
     "metadata": {},
     "output_type": "execute_result"
    }
   ],
   "source": [
    "from sklearn import svm\n",
    "from sklearn.model_selection import cross_validate\n",
    "from sklearn.metrics import make_scorer\n",
    "from sklearn.metrics import recall_score\n",
    "\n",
    "clf = svm.SVC()\n",
    "\n",
    "clf.fit(X,Y)\n",
    "clf.score(X,Y)"
   ]
  },
  {
   "cell_type": "code",
   "execution_count": 12,
   "id": "43b0fae9",
   "metadata": {},
   "outputs": [],
   "source": [
    "test_split =  np.load('kfw_test_pair.npy')\n",
    "testset = kinfaceW(test_split)\n",
    "testloader = DataLoader(\n",
    "        testset, batch_size=1, shuffle=False, num_workers=1)"
   ]
  },
  {
   "cell_type": "code",
   "execution_count": 13,
   "id": "452831a0",
   "metadata": {},
   "outputs": [
    {
     "name": "stderr",
     "output_type": "stream",
     "text": [
      "100%|███████████████████████████████████████████████████████████████████████████| 1066/1066 [02:49<00:00,  6.27batch/s]\n",
      "\n"
     ]
    }
   ],
   "source": [
    "from tqdm import tqdm\n",
    "import torch.nn.functional as F\n",
    "\n",
    "t_outs = []\n",
    "with torch.no_grad():\n",
    "    with tqdm(testloader, unit=\"batch\") as data_loader:\n",
    "        for batch in data_loader:\n",
    "            label = int(batch[2][0])\n",
    "            batch = [v.permute(0,3,1,2).to(device) for v in batch[:2]]\n",
    "\n",
    "            p = resnet(batch[0]).squeeze().detach().cpu()\n",
    "            c = resnet(batch[1]).squeeze().detach().cpu()\n",
    "            \n",
    "            t_outs.append([F.normalize(torch.abs(p - c), dim=0).numpy(), label])"
   ]
  },
  {
   "cell_type": "code",
   "execution_count": 14,
   "id": "9f57c79d",
   "metadata": {},
   "outputs": [],
   "source": [
    "random.shuffle(t_outs)\n",
    "\n",
    "test_x = [a[0] for a in t_outs]\n",
    "test_y = [a[1] for a in t_outs]"
   ]
  },
  {
   "cell_type": "code",
   "execution_count": 15,
   "id": "5216f753",
   "metadata": {},
   "outputs": [
    {
     "name": "stdout",
     "output_type": "stream",
     "text": [
      "1066\n",
      "1066\n"
     ]
    }
   ],
   "source": [
    "print(len(test_x))"
   ]
  },
  {
   "cell_type": "code",
   "execution_count": 18,
   "id": "c92f3bac",
   "metadata": {},
   "outputs": [
    {
     "data": {
      "text/plain": [
       "0.5797373358348968"
      ]
     },
     "execution_count": 18,
     "metadata": {},
     "output_type": "execute_result"
    },
    {
     "data": {
      "text/plain": [
       "0.5797373358348968"
      ]
     },
     "execution_count": 18,
     "metadata": {},
     "output_type": "execute_result"
    }
   ],
   "source": [
    "clf.score(test_x, test_y)"
   ]
  },
  {
   "cell_type": "code",
   "execution_count": null,
   "id": "aac7743c",
   "metadata": {},
   "outputs": [],
   "source": []
  }
 ],
 "metadata": {
  "kernelspec": {
   "display_name": "Python 3 (ipykernel)",
   "language": "python",
   "name": "python3"
  },
  "language_info": {
   "codemirror_mode": {
    "name": "ipython",
    "version": 3
   },
   "file_extension": ".py",
   "mimetype": "text/x-python",
   "name": "python",
   "nbconvert_exporter": "python",
   "pygments_lexer": "ipython3",
   "version": "3.8.13"
  }
 },
 "nbformat": 4,
 "nbformat_minor": 5
}
