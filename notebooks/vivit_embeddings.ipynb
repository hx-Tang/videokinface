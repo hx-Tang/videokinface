{
 "cells": [
  {
   "cell_type": "code",
   "execution_count": 1,
   "id": "693c5320",
   "metadata": {
    "scrolled": false
   },
   "outputs": [
    {
     "name": "stdout",
     "output_type": "stream",
     "text": [
      "C:\\Users\\13661\\PycharmProjects\\KinshipVerification\n"
     ]
    }
   ],
   "source": [
    "%cd .."
   ]
  },
  {
   "cell_type": "code",
   "execution_count": 2,
   "id": "e74a8847",
   "metadata": {},
   "outputs": [],
   "source": [
    "import numpy as np\n",
    "import torch\n",
    "import torchvision\n",
    "from torch.utils.data.dataloader import DataLoader\n",
    "\n",
    "device = torch.device('cuda')"
   ]
  },
  {
   "cell_type": "code",
   "execution_count": 3,
   "id": "f80a1dae",
   "metadata": {},
   "outputs": [],
   "source": [
    "from dataset import Triplet\n",
    "\n",
    "data_path = 'D:/文档/硕士/Thesis/UvA-NEMO_SMILE_DATABASE/aligned'"
   ]
  },
  {
   "cell_type": "code",
   "execution_count": 4,
   "id": "3423ec8f",
   "metadata": {},
   "outputs": [],
   "source": [
    "train_split = np.load('train.npy')\n",
    "dataset = Triplet(data_path, train_split)\n",
    "loader = DataLoader(\n",
    "        dataset, batch_size=1, shuffle=False, num_workers=1)"
   ]
  },
  {
   "cell_type": "code",
   "execution_count": 5,
   "id": "fd8c5172",
   "metadata": {},
   "outputs": [
    {
     "name": "stderr",
     "output_type": "stream",
     "text": [
      "Some weights of the model checkpoint at MCG-NJU/videomae-base-finetuned-kinetics were not used when initializing VideoMAEModel: ['fc_norm.weight', 'classifier.weight', 'fc_norm.bias', 'classifier.bias']\n",
      "- This IS expected if you are initializing VideoMAEModel from the checkpoint of a model trained on another task or with another architecture (e.g. initializing a BertForSequenceClassification model from a BertForPreTraining model).\n",
      "- This IS NOT expected if you are initializing VideoMAEModel from the checkpoint of a model that you expect to be exactly identical (initializing a BertForSequenceClassification model from a BertForSequenceClassification model).\n"
     ]
    }
   ],
   "source": [
    "from transformers import VideoMAEFeatureExtractor, VideoMAEModel\n",
    "from datasets import load_dataset\n",
    "\n",
    "feature_extractor = VideoMAEFeatureExtractor.from_pretrained(\"MCG-NJU/videomae-base-finetuned-kinetics\")\n",
    "\n",
    "vit = VideoMAEModel.from_pretrained(\"MCG-NJU/videomae-base-finetuned-kinetics\").eval().to(device)\n"
   ]
  },
  {
   "cell_type": "code",
   "execution_count": 6,
   "id": "c139acd1",
   "metadata": {},
   "outputs": [
    {
     "name": "stderr",
     "output_type": "stream",
     "text": [
      "100%|███████████████████████████████████████████████████████████████████████████████| 52/52 [00:28<00:00,  1.82batch/s]\n"
     ]
    }
   ],
   "source": [
    "from tqdm import tqdm\n",
    "import torch.nn.functional as F\n",
    "\n",
    "outs = []\n",
    "with torch.no_grad():\n",
    "    with tqdm(loader, unit=\"batch\") as data_loader:\n",
    "        for batch in data_loader:\n",
    "            batch = [feature_extractor(list(v.squeeze()), return_tensors=\"pt\").to(device) for v in batch]\n",
    "            \n",
    "            anchor = vit(**batch[0])[0][:, 0].squeeze(0).detach().cpu()\n",
    "            pos = vit(**batch[1])[0][:, 0].squeeze(0).detach().cpu()\n",
    "            neg = vit(**batch[2])[0][:, 0].squeeze(0).detach().cpu()\n",
    "            \n",
    "            outs.append([F.normalize(torch.abs(anchor - pos), dim=0).numpy(), 1])\n",
    "            outs.append([F.normalize(torch.abs(anchor - neg), dim=0).numpy(), 0])"
   ]
  },
  {
   "cell_type": "code",
   "execution_count": 7,
   "id": "1763b760",
   "metadata": {},
   "outputs": [],
   "source": [
    "import random\n",
    "random.shuffle(outs)\n",
    "\n",
    "X = [a[0] for a in outs]\n",
    "Y = [a[1] for a in outs]"
   ]
  },
  {
   "cell_type": "code",
   "execution_count": 8,
   "id": "0896d36b",
   "metadata": {},
   "outputs": [],
   "source": [
    "from sklearn.model_selection import KFold\n",
    "kf = KFold(n_splits=5, shuffle=True)"
   ]
  },
  {
   "cell_type": "code",
   "execution_count": 9,
   "id": "29507374",
   "metadata": {},
   "outputs": [
    {
     "data": {
      "text/plain": [
       "0.9615384615384616"
      ]
     },
     "execution_count": 9,
     "metadata": {},
     "output_type": "execute_result"
    }
   ],
   "source": [
    "from sklearn import svm\n",
    "from sklearn.model_selection import cross_validate\n",
    "from sklearn.metrics import make_scorer\n",
    "from sklearn.metrics import recall_score\n",
    "\n",
    "clf = svm.SVC()\n",
    "\n",
    "# scoring = {'prec_macro': 'precision_macro','rec_macro': make_scorer(recall_score, average='macro')}\n",
    "# scores = cross_validate(clf,X, Y,\n",
    "#                        scoring=scoring, cv=kf,\n",
    "#                        return_estimator=True)\n",
    "clf.fit(X,Y)\n",
    "clf.score(X,Y)\n",
    "# print(scores)"
   ]
  },
  {
   "cell_type": "code",
   "execution_count": 10,
   "id": "3ccee89f",
   "metadata": {},
   "outputs": [],
   "source": [
    "# print(scores['test_prec_macro'])"
   ]
  },
  {
   "cell_type": "code",
   "execution_count": 11,
   "id": "43b0fae9",
   "metadata": {},
   "outputs": [],
   "source": [
    "test_split = np.load('test.npy')\n",
    "testset = Triplet(data_path, test_split)\n",
    "testloader = DataLoader(\n",
    "        testset, batch_size=1, shuffle=False, num_workers=1)"
   ]
  },
  {
   "cell_type": "code",
   "execution_count": 12,
   "id": "452831a0",
   "metadata": {},
   "outputs": [
    {
     "name": "stderr",
     "output_type": "stream",
     "text": [
      "100%|███████████████████████████████████████████████████████████████████████████████| 14/14 [00:08<00:00,  1.73batch/s]\n"
     ]
    }
   ],
   "source": [
    "from tqdm import tqdm\n",
    "import torch.nn.functional as F\n",
    "\n",
    "t_outs = []\n",
    "with torch.no_grad():\n",
    "    with tqdm(testloader, unit=\"batch\") as data_loader:\n",
    "        for batch in data_loader:\n",
    "            batch = [feature_extractor(list(v.squeeze().permute(0,3,1,2)), return_tensors=\"pt\").to(device) for v in batch]\n",
    "\n",
    "            anchor = vit(**batch[0])[0][:, 0].detach().mean(0).cpu()\n",
    "            pos = vit(**batch[1])[0][:, 0].detach().mean(0).cpu()\n",
    "            neg = vit(**batch[2])[0][:, 0].detach().mean(0).cpu()\n",
    "                        \n",
    "            t_outs.append([F.normalize(torch.abs(anchor - pos), dim=0).numpy(), 1])\n",
    "            t_outs.append([F.normalize(torch.abs(anchor - neg), dim=0).numpy(), 0])"
   ]
  },
  {
   "cell_type": "code",
   "execution_count": 13,
   "id": "9f57c79d",
   "metadata": {},
   "outputs": [],
   "source": [
    "# random.shuffle(t_outs)\n",
    "\n",
    "test_x = [a[0] for a in t_outs]\n",
    "test_y = [a[1] for a in t_outs]"
   ]
  },
  {
   "cell_type": "code",
   "execution_count": 14,
   "id": "c92f3bac",
   "metadata": {},
   "outputs": [
    {
     "data": {
      "text/plain": [
       "0.4642857142857143"
      ]
     },
     "execution_count": 14,
     "metadata": {},
     "output_type": "execute_result"
    }
   ],
   "source": [
    "clf.score(test_x, test_y)"
   ]
  },
  {
   "cell_type": "code",
   "execution_count": null,
   "id": "fe257ad3",
   "metadata": {},
   "outputs": [],
   "source": []
  },
  {
   "cell_type": "code",
   "execution_count": null,
   "id": "479b2282",
   "metadata": {},
   "outputs": [],
   "source": []
  }
 ],
 "metadata": {
  "kernelspec": {
   "display_name": "Python 3 (ipykernel)",
   "language": "python",
   "name": "python3"
  },
  "language_info": {
   "codemirror_mode": {
    "name": "ipython",
    "version": 3
   },
   "file_extension": ".py",
   "mimetype": "text/x-python",
   "name": "python",
   "nbconvert_exporter": "python",
   "pygments_lexer": "ipython3",
   "version": "3.8.13"
  }
 },
 "nbformat": 4,
 "nbformat_minor": 5
}
