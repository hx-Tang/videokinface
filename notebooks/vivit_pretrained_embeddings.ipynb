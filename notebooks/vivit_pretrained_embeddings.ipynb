{
 "cells": [
  {
   "cell_type": "code",
   "execution_count": 1,
   "id": "693c5320",
   "metadata": {
    "scrolled": false
   },
   "outputs": [
    {
     "name": "stdout",
     "output_type": "stream",
     "text": [
      "C:\\Users\\13661\\PycharmProjects\\KinshipVerification\n"
     ]
    }
   ],
   "source": [
    "%cd .."
   ]
  },
  {
   "cell_type": "code",
   "execution_count": 2,
   "id": "e74a8847",
   "metadata": {},
   "outputs": [],
   "source": [
    "import numpy as np\n",
    "import torch\n",
    "import torchvision\n",
    "from torch.utils.data.dataloader import DataLoader\n",
    "\n",
    "device = torch.device('cuda')"
   ]
  },
  {
   "cell_type": "code",
   "execution_count": 3,
   "id": "f80a1dae",
   "metadata": {},
   "outputs": [],
   "source": [
    "from dataset import Contrastive_pretrain\n",
    "\n",
    "data_path = 'D:/文档/硕士/Thesis/UvA-NEMO_SMILE_DATABASE/aligned'"
   ]
  },
  {
   "cell_type": "code",
   "execution_count": 4,
   "id": "3423ec8f",
   "metadata": {},
   "outputs": [],
   "source": [
    "train_split = np.load('train.npy')\n",
    "dataset = Contrastive_pretrain(data_path, train_split)\n",
    "loader = DataLoader(\n",
    "        dataset, batch_size=1, shuffle=False, num_workers=1)"
   ]
  },
  {
   "cell_type": "code",
   "execution_count": 5,
   "id": "fd8c5172",
   "metadata": {},
   "outputs": [],
   "source": [
    "from transformers import VideoMAEFeatureExtractor, VideoMAEModel, VideoMAEConfig\n",
    "from datasets import load_dataset\n",
    "\n",
    "feature_extractor = VideoMAEFeatureExtractor.from_pretrained(\"MCG-NJU/videomae-base\", size=112)\n",
    "config = VideoMAEConfig(image_size=112, num_frames=5)\n",
    "model = VideoMAEModel.from_pretrained(\"C:\\\\Users\\\\13661\\\\PycharmProjects\\\\KinshipVerification\\\\ckpts\", config=config).eval().to(device)\n"
   ]
  },
  {
   "cell_type": "code",
   "execution_count": 6,
   "id": "c139acd1",
   "metadata": {},
   "outputs": [
    {
     "name": "stderr",
     "output_type": "stream",
     "text": [
      "100%|███████████████████████████████████████████████████████████████████████████| 1154/1154 [00:38<00:00, 29.84batch/s]\n"
     ]
    }
   ],
   "source": [
    "from tqdm import tqdm\n",
    "import torch.nn.functional as F\n",
    "\n",
    "outs = []\n",
    "with torch.no_grad():\n",
    "    with tqdm(loader, unit=\"batch\") as data_loader:\n",
    "        for batch in data_loader:\n",
    "            batch_size = batch[0].size()[0]\n",
    "            batch = torch.cat([batch[0], batch[1], batch[2]])\n",
    "            batch = [list(b) for b in list(batch)]\n",
    "            batch = feature_extractor(batch, return_tensors=\"pt\")\n",
    "            batch.to(device)\n",
    "\n",
    "            sequence_output = model(**batch)[0]\n",
    "            logits = sequence_output[:, 0]\n",
    "\n",
    "            query = logits[:batch_size].squeeze(0).detach().cpu()\n",
    "            positive_key = logits[batch_size:int(batch_size*2)].squeeze(0).detach().cpu()\n",
    "            negative_key = logits[int(batch_size * 2):int(batch_size * 3)].squeeze(0).detach().cpu()\n",
    "            \n",
    "            outs.append([F.normalize(torch.abs(query - positive_key), dim=0).numpy(), 1])\n",
    "            outs.append([F.normalize(torch.abs(query - negative_key), dim=0).numpy(), 0])"
   ]
  },
  {
   "cell_type": "code",
   "execution_count": 7,
   "id": "1763b760",
   "metadata": {},
   "outputs": [],
   "source": [
    "import random\n",
    "random.shuffle(outs)\n",
    "\n",
    "X = [a[0] for a in outs]\n",
    "Y = [a[1] for a in outs]"
   ]
  },
  {
   "cell_type": "code",
   "execution_count": 8,
   "id": "0896d36b",
   "metadata": {},
   "outputs": [],
   "source": [
    "from sklearn.model_selection import KFold\n",
    "kf = KFold(n_splits=5, shuffle=True)"
   ]
  },
  {
   "cell_type": "code",
   "execution_count": 9,
   "id": "29507374",
   "metadata": {},
   "outputs": [
    {
     "data": {
      "text/plain": [
       "0.9094454072790294"
      ]
     },
     "execution_count": 9,
     "metadata": {},
     "output_type": "execute_result"
    }
   ],
   "source": [
    "from sklearn import svm\n",
    "from sklearn.model_selection import cross_validate\n",
    "from sklearn.metrics import make_scorer\n",
    "from sklearn.metrics import recall_score\n",
    "\n",
    "clf = svm.SVC()\n",
    "\n",
    "# scoring = {'prec_macro': 'precision_macro','rec_macro': make_scorer(recall_score, average='macro')}\n",
    "# scores = cross_validate(clf,X, Y,\n",
    "#                        scoring=scoring, cv=kf,\n",
    "#                        return_estimator=True)\n",
    "clf.fit(X,Y)\n",
    "clf.score(X,Y)\n",
    "# print(scores)"
   ]
  },
  {
   "cell_type": "code",
   "execution_count": 10,
   "id": "3ccee89f",
   "metadata": {},
   "outputs": [],
   "source": [
    "# print(scores['test_prec_macro'])"
   ]
  },
  {
   "cell_type": "code",
   "execution_count": 12,
   "id": "43b0fae9",
   "metadata": {},
   "outputs": [],
   "source": [
    "test_split = np.load('test.npy')\n",
    "testset = Contrastive_pretrain(data_path, test_split)\n",
    "testloader = DataLoader(\n",
    "        testset, batch_size=1, shuffle=False, num_workers=1)"
   ]
  },
  {
   "cell_type": "code",
   "execution_count": 13,
   "id": "452831a0",
   "metadata": {},
   "outputs": [
    {
     "name": "stderr",
     "output_type": "stream",
     "text": [
      "100%|█████████████████████████████████████████████████████████████████████████████| 516/516 [00:16<00:00, 31.95batch/s]\n"
     ]
    }
   ],
   "source": [
    "from tqdm import tqdm\n",
    "import torch.nn.functional as F\n",
    "\n",
    "t_outs = []\n",
    "with torch.no_grad():\n",
    "    with tqdm(testloader, unit=\"batch\") as data_loader:\n",
    "        for batch in data_loader:\n",
    "            batch_size = batch[0].size()[0]\n",
    "            batch = torch.cat([batch[0], batch[1], batch[2]])\n",
    "            batch = [list(b) for b in list(batch)]\n",
    "            batch = feature_extractor(batch, return_tensors=\"pt\")\n",
    "            batch.to(device)\n",
    "\n",
    "            sequence_output = model(**batch)[0]\n",
    "            logits = sequence_output[:, 0]\n",
    "\n",
    "            query = logits[:batch_size].squeeze(0).detach().cpu()\n",
    "            positive_key = logits[batch_size:int(batch_size*2)].squeeze(0).detach().cpu()\n",
    "            negative_key = logits[int(batch_size * 2):int(batch_size * 3)].squeeze(0).detach().cpu()\n",
    "                        \n",
    "            t_outs.append([F.normalize(torch.abs(query - positive_key), dim=0).numpy(), 1])\n",
    "            t_outs.append([F.normalize(torch.abs(query - negative_key), dim=0).numpy(), 0])"
   ]
  },
  {
   "cell_type": "code",
   "execution_count": 14,
   "id": "9f57c79d",
   "metadata": {},
   "outputs": [],
   "source": [
    "random.shuffle(t_outs)\n",
    "\n",
    "test_x = [a[0] for a in t_outs]\n",
    "test_y = [a[1] for a in t_outs]"
   ]
  },
  {
   "cell_type": "code",
   "execution_count": 15,
   "id": "c92f3bac",
   "metadata": {},
   "outputs": [
    {
     "data": {
      "text/plain": [
       "0.45251937984496127"
      ]
     },
     "execution_count": 15,
     "metadata": {},
     "output_type": "execute_result"
    }
   ],
   "source": [
    "clf.score(test_x, test_y)"
   ]
  },
  {
   "cell_type": "code",
   "execution_count": null,
   "id": "fe257ad3",
   "metadata": {},
   "outputs": [],
   "source": []
  },
  {
   "cell_type": "code",
   "execution_count": null,
   "id": "479b2282",
   "metadata": {},
   "outputs": [],
   "source": []
  }
 ],
 "metadata": {
  "kernelspec": {
   "display_name": "Python 3 (ipykernel)",
   "language": "python",
   "name": "python3"
  },
  "language_info": {
   "codemirror_mode": {
    "name": "ipython",
    "version": 3
   },
   "file_extension": ".py",
   "mimetype": "text/x-python",
   "name": "python",
   "nbconvert_exporter": "python",
   "pygments_lexer": "ipython3",
   "version": "3.8.13"
  }
 },
 "nbformat": 4,
 "nbformat_minor": 5
}
